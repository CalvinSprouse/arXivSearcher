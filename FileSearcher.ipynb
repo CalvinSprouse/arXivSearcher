{
 "cells": [
  {
   "cell_type": "code",
   "execution_count": 4,
   "metadata": {},
   "outputs": [],
   "source": [
    "# imports\n",
    "import os\n",
    "\n",
    "from rich import print"
   ]
  },
  {
   "cell_type": "code",
   "execution_count": 2,
   "metadata": {},
   "outputs": [],
   "source": [
    "# enter and get a list of files from save dir\n",
    "article_list = os.listdir(\"Articles\")"
   ]
  },
  {
   "cell_type": "code",
   "execution_count": 9,
   "metadata": {},
   "outputs": [
    {
     "data": {
      "text/html": [
       "<pre style=\"white-space:pre;overflow-x:auto;line-height:normal;font-family:Menlo,'DejaVu Sans Mono',consolas,'Courier New',monospace\"><span style=\"font-weight: bold\">[</span>\n",
       "    <span style=\"color: #008000; text-decoration-color: #008000\">'The_role_of_stellar_expansion_on_the_formation_of_gravitational_wave_sources.txt'</span>,\n",
       "    <span style=\"color: #008000; text-decoration-color: #008000\">\"Isotropic_Buchdahl's_relativistic_fluid_sphere_within_f(R,-,T)_gravity.txt\"</span>,\n",
       "    <span style=\"color: #008000; text-decoration-color: #008000\">'Orbital_decay_of_double_white_dwarfs:_beyond_gravitational_wave_radiation_effects.txt'</span>,\n",
       "    <span style=\"color: #008000; text-decoration-color: #008000\">'Equilibrium_of_slowly_rotating_polytropes_in_modified_theories_of_gravity.txt'</span>,\n",
       "    <span style=\"color: #008000; text-decoration-color: #008000\">'Are_the_heliosphere,_very_local_interstellar_medium,_and_local_cavity_in_pressure_balance_with_Galactic_gravit</span>\n",
       "<span style=\"color: #008000; text-decoration-color: #008000\">y.txt'</span>,\n",
       "    <span style=\"color: #008000; text-decoration-color: #008000\">'Panning_for_gold,_but_finding_helium:_discovery_of_the_ultra-stripped_supernova_SN2019wxt_from_gravitational-w</span>\n",
       "<span style=\"color: #008000; text-decoration-color: #008000\">ave_follow-up_observations.txt'</span>,\n",
       "    <span style=\"color: #008000; text-decoration-color: #008000\">'Multi-scale_dynamics_in_star-forming_regions:_the_interplay_between_gravity_and_turbulence.txt'</span>,\n",
       "    <span style=\"color: #008000; text-decoration-color: #008000\">'Massive_star_interiors_revealed_by_gravity_wave_asteroseismology_and_high-resolution_spectroscopy.txt'</span>,\n",
       "    <span style=\"color: #008000; text-decoration-color: #008000\">'Periastron_precession_effect_of_f-mode_dynamical_tides_on_gravitational_waves_from_eccentric_double_white_dwar</span>\n",
       "<span style=\"color: #008000; text-decoration-color: #008000\">fs.txt'</span>,\n",
       "    <span style=\"color: #008000; text-decoration-color: #008000\">'Stochastic_excitation_of_internal_gravity_waves_in_rotating_late_F-type_stars:_A_3D_simulation_approach.txt'</span>,\n",
       "    <span style=\"color: #008000; text-decoration-color: #008000\">'Detecting_the_heterodyning_of_gravitational_waves.txt'</span>,\n",
       "    <span style=\"color: #008000; text-decoration-color: #008000\">'Imaging_faint_sources_with_the_extended_solar_gravitational_lens.txt'</span>,\n",
       "    <span style=\"color: #008000; text-decoration-color: #008000\">'An_outlook_on_the_estimate_of_the_solar_quadrupole_moment_from_relativistic_gravitation_contributions.txt'</span>,\n",
       "    <span style=\"color: #008000; text-decoration-color: #008000\">'On_the_impact_of_relativistic_gravity_on_the_rate_of_tidal_disruption_events.txt'</span>,\n",
       "    <span style=\"color: #008000; text-decoration-color: #008000\">'Photometric_detection_of_internal_gravity_waves_in_upper_main-sequence_stars._III._Comparison_of_amplitude_spe</span>\n",
       "<span style=\"color: #008000; text-decoration-color: #008000\">ctrum_fitting_and_Gaussian_process_regression_using_celerite2.txt'</span>,\n",
       "    <span style=\"color: #008000; text-decoration-color: #008000\">'Effect_of_some_modified_models_of_gravity_on_the_radial_velocity_of_binary_systems.txt'</span>,\n",
       "    <span style=\"color: #008000; text-decoration-color: #008000\">'Opportunistic_search_for_continuous_gravitational_waves_from_compact_objects_in_long-period_binaries.txt'</span>,\n",
       "    <span style=\"color: #008000; text-decoration-color: #008000\">'Extended_Tolman_III_and_VII_solutions_in_f(-mathcal{R},T)_gravity:_Models_for_neutron_stars_and_supermassive_s</span>\n",
       "<span style=\"color: #008000; text-decoration-color: #008000\">tars.txt'</span>,\n",
       "    <span style=\"color: #008000; text-decoration-color: #008000\">'Tidally_excited_gravity_waves_in_the_cores_of_solar-type_stars:_resonances_and_critical-layer_formation.txt'</span>,\n",
       "    <span style=\"color: #008000; text-decoration-color: #008000\">'Constraining_fundamental_parameters_in_modified_gravity_using_Gaia-DR2_massive_white_dwarf_observation.txt'</span>,\n",
       "    <span style=\"color: #008000; text-decoration-color: #008000\">'Nested_spheroidal_figures_of_equilibrium_III._Connection_with_the_gravitational_moments_J_{2n}.txt'</span>,\n",
       "    <span style=\"color: #008000; text-decoration-color: #008000\">'Strong_magnetic_fields_detected_in_the_cores_of_11_red_giant_stars_using_gravity-mode_period_spacings.txt'</span>,\n",
       "    <span style=\"color: #008000; text-decoration-color: #008000\">'Continuous_gravitational_wave_detection_to_understand_the_generation_mechanism_of_fast_radio_bursts.txt'</span>,\n",
       "    <span style=\"color: #008000; text-decoration-color: #008000\">'Asteroseismology_of_hot_subdwarf_B_stars_observed_with_TESS:_discovery_of_two_new_gravity_mode_pulsating_stars</span>\n",
       "<span style=\"color: #008000; text-decoration-color: #008000\">.txt'</span>,\n",
       "    <span style=\"color: #008000; text-decoration-color: #008000\">'PSR~J1910-5959A:_A_rare_gravitational_laboratory_for_testing_white_dwarf_models.txt'</span>,\n",
       "    <span style=\"color: #008000; text-decoration-color: #008000\">'Planetesimal_formation_by_the_gravitational_instability_of_dust_ring_structures.txt'</span>,\n",
       "    <span style=\"color: #008000; text-decoration-color: #008000\">'Importance_of_stable_mass_transfer_and_stellar_winds_for_the_formation_of_gravitational_wave_sources.txt'</span>,\n",
       "    <span style=\"color: #008000; text-decoration-color: #008000\">'Non-ideal_magnetohydrodynamics_of_self-gravitating_filaments.txt'</span>,\n",
       "    <span style=\"color: #008000; text-decoration-color: #008000\">'Computing_the_gravitational_potential_on_nested_meshes_using_the_convolution_method.txt'</span>,\n",
       "    <span style=\"color: #008000; text-decoration-color: #008000\">'Local_gravitational_instability_of_stratified_rotating_fluids:_3D_criteria_for_gaseous_discs.txt'</span>\n",
       "<span style=\"font-weight: bold\">]</span>\n",
       "</pre>\n"
      ],
      "text/plain": [
       "\u001b[1m[\u001b[0m\n",
       "    \u001b[32m'The_role_of_stellar_expansion_on_the_formation_of_gravitational_wave_sources.txt'\u001b[0m,\n",
       "    \u001b[32m\"Isotropic_Buchdahl's_relativistic_fluid_sphere_within_f\u001b[0m\u001b[32m(\u001b[0m\u001b[32mR,-,T\u001b[0m\u001b[32m)\u001b[0m\u001b[32m_gravity.txt\"\u001b[0m,\n",
       "    \u001b[32m'Orbital_decay_of_double_white_dwarfs:_beyond_gravitational_wave_radiation_effects.txt'\u001b[0m,\n",
       "    \u001b[32m'Equilibrium_of_slowly_rotating_polytropes_in_modified_theories_of_gravity.txt'\u001b[0m,\n",
       "    \u001b[32m'Are_the_heliosphere,_very_local_interstellar_medium,_and_local_cavity_in_pressure_balance_with_Galactic_gravit\u001b[0m\n",
       "\u001b[32my.txt'\u001b[0m,\n",
       "    \u001b[32m'Panning_for_gold,_but_finding_helium:_discovery_of_the_ultra-stripped_supernova_SN2019wxt_from_gravitational-w\u001b[0m\n",
       "\u001b[32mave_follow-up_observations.txt'\u001b[0m,\n",
       "    \u001b[32m'Multi-scale_dynamics_in_star-forming_regions:_the_interplay_between_gravity_and_turbulence.txt'\u001b[0m,\n",
       "    \u001b[32m'Massive_star_interiors_revealed_by_gravity_wave_asteroseismology_and_high-resolution_spectroscopy.txt'\u001b[0m,\n",
       "    \u001b[32m'Periastron_precession_effect_of_f-mode_dynamical_tides_on_gravitational_waves_from_eccentric_double_white_dwar\u001b[0m\n",
       "\u001b[32mfs.txt'\u001b[0m,\n",
       "    \u001b[32m'Stochastic_excitation_of_internal_gravity_waves_in_rotating_late_F-type_stars:_A_3D_simulation_approach.txt'\u001b[0m,\n",
       "    \u001b[32m'Detecting_the_heterodyning_of_gravitational_waves.txt'\u001b[0m,\n",
       "    \u001b[32m'Imaging_faint_sources_with_the_extended_solar_gravitational_lens.txt'\u001b[0m,\n",
       "    \u001b[32m'An_outlook_on_the_estimate_of_the_solar_quadrupole_moment_from_relativistic_gravitation_contributions.txt'\u001b[0m,\n",
       "    \u001b[32m'On_the_impact_of_relativistic_gravity_on_the_rate_of_tidal_disruption_events.txt'\u001b[0m,\n",
       "    \u001b[32m'Photometric_detection_of_internal_gravity_waves_in_upper_main-sequence_stars._III._Comparison_of_amplitude_spe\u001b[0m\n",
       "\u001b[32mctrum_fitting_and_Gaussian_process_regression_using_celerite2.txt'\u001b[0m,\n",
       "    \u001b[32m'Effect_of_some_modified_models_of_gravity_on_the_radial_velocity_of_binary_systems.txt'\u001b[0m,\n",
       "    \u001b[32m'Opportunistic_search_for_continuous_gravitational_waves_from_compact_objects_in_long-period_binaries.txt'\u001b[0m,\n",
       "    \u001b[32m'Extended_Tolman_III_and_VII_solutions_in_f\u001b[0m\u001b[32m(\u001b[0m\u001b[32m-mathcal\u001b[0m\u001b[32m{\u001b[0m\u001b[32mR\u001b[0m\u001b[32m}\u001b[0m\u001b[32m,T\u001b[0m\u001b[32m)\u001b[0m\u001b[32m_gravity:_Models_for_neutron_stars_and_supermassive_s\u001b[0m\n",
       "\u001b[32mtars.txt'\u001b[0m,\n",
       "    \u001b[32m'Tidally_excited_gravity_waves_in_the_cores_of_solar-type_stars:_resonances_and_critical-layer_formation.txt'\u001b[0m,\n",
       "    \u001b[32m'Constraining_fundamental_parameters_in_modified_gravity_using_Gaia-DR2_massive_white_dwarf_observation.txt'\u001b[0m,\n",
       "    \u001b[32m'Nested_spheroidal_figures_of_equilibrium_III._Connection_with_the_gravitational_moments_J_\u001b[0m\u001b[32m{\u001b[0m\u001b[32m2n\u001b[0m\u001b[32m}\u001b[0m\u001b[32m.txt'\u001b[0m,\n",
       "    \u001b[32m'Strong_magnetic_fields_detected_in_the_cores_of_11_red_giant_stars_using_gravity-mode_period_spacings.txt'\u001b[0m,\n",
       "    \u001b[32m'Continuous_gravitational_wave_detection_to_understand_the_generation_mechanism_of_fast_radio_bursts.txt'\u001b[0m,\n",
       "    \u001b[32m'Asteroseismology_of_hot_subdwarf_B_stars_observed_with_TESS:_discovery_of_two_new_gravity_mode_pulsating_stars\u001b[0m\n",
       "\u001b[32m.txt'\u001b[0m,\n",
       "    \u001b[32m'PSR~J1910-5959A:_A_rare_gravitational_laboratory_for_testing_white_dwarf_models.txt'\u001b[0m,\n",
       "    \u001b[32m'Planetesimal_formation_by_the_gravitational_instability_of_dust_ring_structures.txt'\u001b[0m,\n",
       "    \u001b[32m'Importance_of_stable_mass_transfer_and_stellar_winds_for_the_formation_of_gravitational_wave_sources.txt'\u001b[0m,\n",
       "    \u001b[32m'Non-ideal_magnetohydrodynamics_of_self-gravitating_filaments.txt'\u001b[0m,\n",
       "    \u001b[32m'Computing_the_gravitational_potential_on_nested_meshes_using_the_convolution_method.txt'\u001b[0m,\n",
       "    \u001b[32m'Local_gravitational_instability_of_stratified_rotating_fluids:_3D_criteria_for_gaseous_discs.txt'\u001b[0m\n",
       "\u001b[1m]\u001b[0m\n"
      ]
     },
     "metadata": {},
     "output_type": "display_data"
    },
    {
     "data": {
      "text/html": [
       "<pre style=\"white-space:pre;overflow-x:auto;line-height:normal;font-family:Menlo,'DejaVu Sans Mono',consolas,'Courier New',monospace\"><span style=\"font-weight: bold\">[</span>\n",
       "    <span style=\"color: #008000; text-decoration-color: #008000\">'The_role_of_stellar_expansion_on_the_formation_of_gravitational_wave_sources.txt'</span>,\n",
       "    <span style=\"color: #008000; text-decoration-color: #008000\">'Orbital_decay_of_double_white_dwarfs:_beyond_gravitational_wave_radiation_effects.txt'</span>,\n",
       "    <span style=\"color: #008000; text-decoration-color: #008000\">'Panning_for_gold,_but_finding_helium:_discovery_of_the_ultra-stripped_supernova_SN2019wxt_from_gravitational-w</span>\n",
       "<span style=\"color: #008000; text-decoration-color: #008000\">ave_follow-up_observations.txt'</span>,\n",
       "    <span style=\"color: #008000; text-decoration-color: #008000\">'Massive_star_interiors_revealed_by_gravity_wave_asteroseismology_and_high-resolution_spectroscopy.txt'</span>,\n",
       "    <span style=\"color: #008000; text-decoration-color: #008000\">'Periastron_precession_effect_of_f-mode_dynamical_tides_on_gravitational_waves_from_eccentric_double_white_dwar</span>\n",
       "<span style=\"color: #008000; text-decoration-color: #008000\">fs.txt'</span>,\n",
       "    <span style=\"color: #008000; text-decoration-color: #008000\">'Stochastic_excitation_of_internal_gravity_waves_in_rotating_late_F-type_stars:_A_3D_simulation_approach.txt'</span>,\n",
       "    <span style=\"color: #008000; text-decoration-color: #008000\">'Detecting_the_heterodyning_of_gravitational_waves.txt'</span>,\n",
       "    <span style=\"color: #008000; text-decoration-color: #008000\">'Photometric_detection_of_internal_gravity_waves_in_upper_main-sequence_stars._III._Comparison_of_amplitude_spe</span>\n",
       "<span style=\"color: #008000; text-decoration-color: #008000\">ctrum_fitting_and_Gaussian_process_regression_using_celerite2.txt'</span>,\n",
       "    <span style=\"color: #008000; text-decoration-color: #008000\">'Opportunistic_search_for_continuous_gravitational_waves_from_compact_objects_in_long-period_binaries.txt'</span>,\n",
       "    <span style=\"color: #008000; text-decoration-color: #008000\">'Tidally_excited_gravity_waves_in_the_cores_of_solar-type_stars:_resonances_and_critical-layer_formation.txt'</span>,\n",
       "    <span style=\"color: #008000; text-decoration-color: #008000\">'Continuous_gravitational_wave_detection_to_understand_the_generation_mechanism_of_fast_radio_bursts.txt'</span>,\n",
       "    <span style=\"color: #008000; text-decoration-color: #008000\">'Importance_of_stable_mass_transfer_and_stellar_winds_for_the_formation_of_gravitational_wave_sources.txt'</span>\n",
       "<span style=\"font-weight: bold\">]</span>\n",
       "</pre>\n"
      ],
      "text/plain": [
       "\u001b[1m[\u001b[0m\n",
       "    \u001b[32m'The_role_of_stellar_expansion_on_the_formation_of_gravitational_wave_sources.txt'\u001b[0m,\n",
       "    \u001b[32m'Orbital_decay_of_double_white_dwarfs:_beyond_gravitational_wave_radiation_effects.txt'\u001b[0m,\n",
       "    \u001b[32m'Panning_for_gold,_but_finding_helium:_discovery_of_the_ultra-stripped_supernova_SN2019wxt_from_gravitational-w\u001b[0m\n",
       "\u001b[32mave_follow-up_observations.txt'\u001b[0m,\n",
       "    \u001b[32m'Massive_star_interiors_revealed_by_gravity_wave_asteroseismology_and_high-resolution_spectroscopy.txt'\u001b[0m,\n",
       "    \u001b[32m'Periastron_precession_effect_of_f-mode_dynamical_tides_on_gravitational_waves_from_eccentric_double_white_dwar\u001b[0m\n",
       "\u001b[32mfs.txt'\u001b[0m,\n",
       "    \u001b[32m'Stochastic_excitation_of_internal_gravity_waves_in_rotating_late_F-type_stars:_A_3D_simulation_approach.txt'\u001b[0m,\n",
       "    \u001b[32m'Detecting_the_heterodyning_of_gravitational_waves.txt'\u001b[0m,\n",
       "    \u001b[32m'Photometric_detection_of_internal_gravity_waves_in_upper_main-sequence_stars._III._Comparison_of_amplitude_spe\u001b[0m\n",
       "\u001b[32mctrum_fitting_and_Gaussian_process_regression_using_celerite2.txt'\u001b[0m,\n",
       "    \u001b[32m'Opportunistic_search_for_continuous_gravitational_waves_from_compact_objects_in_long-period_binaries.txt'\u001b[0m,\n",
       "    \u001b[32m'Tidally_excited_gravity_waves_in_the_cores_of_solar-type_stars:_resonances_and_critical-layer_formation.txt'\u001b[0m,\n",
       "    \u001b[32m'Continuous_gravitational_wave_detection_to_understand_the_generation_mechanism_of_fast_radio_bursts.txt'\u001b[0m,\n",
       "    \u001b[32m'Importance_of_stable_mass_transfer_and_stellar_winds_for_the_formation_of_gravitational_wave_sources.txt'\u001b[0m\n",
       "\u001b[1m]\u001b[0m\n"
      ]
     },
     "metadata": {},
     "output_type": "display_data"
    }
   ],
   "source": [
    "print([a for a in article_list if \"gravi\" in a])\n",
    "\n",
    "print([a for a in article_list if (\"gravi\" in a and \"wave\" in a)])"
   ]
  },
  {
   "cell_type": "code",
   "execution_count": null,
   "metadata": {},
   "outputs": [],
   "source": []
  }
 ],
 "metadata": {
  "kernelspec": {
   "display_name": ".venv",
   "language": "python",
   "name": "python3"
  },
  "language_info": {
   "codemirror_mode": {
    "name": "ipython",
    "version": 3
   },
   "file_extension": ".py",
   "mimetype": "text/x-python",
   "name": "python",
   "nbconvert_exporter": "python",
   "pygments_lexer": "ipython3",
   "version": "3.9.8"
  },
  "orig_nbformat": 4,
  "vscode": {
   "interpreter": {
    "hash": "4036b6f07bf01c04c62e0d0cbf6b71295a82f54724682726afee683bb5a9c458"
   }
  }
 },
 "nbformat": 4,
 "nbformat_minor": 2
}
